{
 "cells": [
  {
   "cell_type": "code",
   "execution_count": 7,
   "metadata": {},
   "outputs": [
    {
     "name": "stdout",
     "output_type": "stream",
     "text": [
      "The Levenshtein distance between 'high' and 'highg' is 1\n"
     ]
    }
   ],
   "source": [
    "def levenshtein_distance(word1, word2):\n",
    "  \"\"\"\n",
    "  Computes the Levenshtein minimum edit distance between two words.\n",
    "\n",
    "  Args:\n",
    "    word1: The first word.\n",
    "    word2: The second word.\n",
    "\n",
    "  Returns:\n",
    "    The minimum edit distance between word1 and word2.\n",
    "  \"\"\"\n",
    "\n",
    "  m = len(word1)\n",
    "  n = len(word2)\n",
    "\n",
    "  # Create a 2D matrix to store the edit distances.\n",
    "  dp = [[0 for _ in range(n + 1)] for _ in range(m + 1)]\n",
    "\n",
    "  # Fill the base cases.\n",
    "  for i in range(m + 1):\n",
    "    dp[i][0] = i\n",
    "  for j in range(n + 1):\n",
    "    dp[0][j] = j\n",
    "\n",
    "  # Fill the rest of the matrix.\n",
    "  for i in range(1, m + 1):\n",
    "    for j in range(1, n + 1):\n",
    "      if word1[i - 1] == word2[j - 1]:\n",
    "        dp[i][j] = dp[i - 1][j - 1]\n",
    "      else:\n",
    "        dp[i][j] = min(dp[i - 1][j] + 1,  # Deletion\n",
    "                      dp[i][j - 1] + 1,  # Insertion\n",
    "                      dp[i - 1][j - 1] + 2)  # Substitution\n",
    "\n",
    "  return dp[m][n]\n",
    "\n",
    "# User Input\n",
    "word1 = input(\"Enter the first word: \")\n",
    "word2 = input(\"Enter the second word: \")\n",
    "\n",
    "distance = levenshtein_distance(word1, word2)\n",
    "print(f\"The Levenshtein distance between '{word1}' and '{word2}' is {distance}\")"
   ]
  },
  {
   "cell_type": "code",
   "execution_count": 9,
   "metadata": {},
   "outputs": [
    {
     "name": "stdout",
     "output_type": "stream",
     "text": [
      "Corrected word: hihg (Did you mean: hill, hint, high, ring)\n"
     ]
    }
   ],
   "source": [
    "import re\n",
    "\n",
    "def create_vocabulary(filename):\n",
    "  \"\"\"\n",
    "  Creates a dictionary of English vocabulary from a text file.\n",
    "\n",
    "  Args:\n",
    "    filename: The path to the text file.\n",
    "\n",
    "  Returns:\n",
    "    A dictionary where keys are words and values are their frequencies.\n",
    "  \"\"\"\n",
    "\n",
    "  # Read the text file\n",
    "  with open(filename, \"r\", encoding=\"utf-8\") as f:\n",
    "    text = f.read().lower()\n",
    "\n",
    "  # Clean the text by removing punctuation and non-alphabetic characters\n",
    "  text = re.sub(r\"[^\\w\\s]\", \"\", text)\n",
    "\n",
    "  # Split into words and create the vocabulary dictionary\n",
    "  words = text.split()\n",
    "  vocabulary = {}\n",
    "  for word in words:\n",
    "    if word:\n",
    "      # Increment the count for the word\n",
    "      vocabulary[word] = vocabulary.get(word, 0) + 1\n",
    "\n",
    "  return vocabulary\n",
    "\n",
    "# Simple spell-checking function\n",
    "def spell_check(word, vocabulary):\n",
    "  \"\"\"\n",
    "  Checks if a word is spelled correctly in the vocabulary and suggests alternatives.\n",
    "\n",
    "  Args:\n",
    "    word: The word to check.\n",
    "    vocabulary: The dictionary of English vocabulary.\n",
    "\n",
    "  Returns:\n",
    "    The corrected word or the original word with suggestions.\n",
    "  \"\"\"\n",
    "\n",
    "  if word in vocabulary:\n",
    "    return word\n",
    "  else:\n",
    "    # Suggest alternatives based on Levenshtein distance (using 1-edit distance)\n",
    "    suggestions = [\n",
    "        w for w in vocabulary\n",
    "        if len(word) == len(w) and sum(a != b for a, b in zip(word, w)) == 2\n",
    "    ]\n",
    "    if suggestions:\n",
    "      return f\"{word} (Did you mean: {', '.join(suggestions)})\"\n",
    "    else:\n",
    "      return word\n",
    "\n",
    "# Example usage\n",
    "filename = \"F:\\VSC Projects\\Spell Checker\\Python-Spell-Checker\\Vocabulary.txt\"  # Replace with your file path\n",
    "vocabulary = create_vocabulary(filename)\n",
    "\n",
    "misspelled_word = input(\"Enter a word: \")\n",
    "corrected_word = spell_check(misspelled_word, vocabulary)\n",
    "print(f\"Corrected word: {corrected_word}\")"
   ]
  }
 ],
 "metadata": {
  "kernelspec": {
   "display_name": "Python 3",
   "language": "python",
   "name": "python3"
  },
  "language_info": {
   "codemirror_mode": {
    "name": "ipython",
    "version": 3
   },
   "file_extension": ".py",
   "mimetype": "text/x-python",
   "name": "python",
   "nbconvert_exporter": "python",
   "pygments_lexer": "ipython3",
   "version": "3.11.8"
  }
 },
 "nbformat": 4,
 "nbformat_minor": 2
}
